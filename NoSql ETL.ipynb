{
 "cells": [
  {
   "cell_type": "markdown",
   "metadata": {},
   "source": [
    "# NoSQL"
   ]
  },
  {
   "cell_type": "markdown",
   "metadata": {},
   "source": [
    "# Advantages\n",
    "\n",
    "- 1. Elastic scaling\n",
    "- 2. Big data\n",
    "- 3. Easily maintained\n",
    "- 4. Economic\n",
    "- 5. Flexible data models"
   ]
  },
  {
   "cell_type": "markdown",
   "metadata": {},
   "source": [
    "# EXTRACT"
   ]
  },
  {
   "cell_type": "markdown",
   "metadata": {},
   "source": [
    "# Avito Online Classifieds"
   ]
  },
  {
   "cell_type": "markdown",
   "metadata": {},
   "source": [
    "https://www.kaggle.com/c/avito-demand-prediction/data\n",
    "\n",
    "\n",
    "- item_id - Ad id.\n",
    "- user_id - User id.\n",
    "- region - Ad region.\n",
    "- city - Ad city.\n",
    "- parent_category_name - Top level ad category as classified by Avito's ad model.\n",
    "- category_name - Fine grain ad category as classified by Avito's ad model.\n",
    "- param_1 - Optional parameter from Avito's ad model.\n",
    "- param_2 - Optional parameter from Avito's ad model.\n",
    "- param_3 - Optional parameter from Avito's ad model.\n",
    "- title - Ad title.\n",
    "- description - Ad description.\n",
    "- price - Ad price.\n",
    "- item_seq_number - Ad sequential number for user.\n",
    "- activation_date- Date ad was placed.\n",
    "- user_type - User type.\n",
    "- image - Id code of image. Ties to a jpg file in train_jpg. Not every ad has an image.\n",
    "- image_top_1 - Avito's classification code for the image.\n",
    "- deal_probability - The target variable. This is the likelihood that an ad actually sold something. It's not possible to verify every transaction with certainty, so this column's value can be any float from zero to one."
   ]
  },
  {
   "cell_type": "markdown",
   "metadata": {},
   "source": [
    "# Open CSV"
   ]
  },
  {
   "cell_type": "code",
   "execution_count": 1,
   "metadata": {},
   "outputs": [],
   "source": [
    "import pandas as pd"
   ]
  },
  {
   "cell_type": "code",
   "execution_count": 3,
   "metadata": {},
   "outputs": [],
   "source": [
    "df = pd.read_csv(\"C://users/stephen/datascience/avito/train.csv\")"
   ]
  },
  {
   "cell_type": "code",
   "execution_count": 4,
   "metadata": {},
   "outputs": [
    {
     "data": {
      "text/html": [
       "<div>\n",
       "<style scoped>\n",
       "    .dataframe tbody tr th:only-of-type {\n",
       "        vertical-align: middle;\n",
       "    }\n",
       "\n",
       "    .dataframe tbody tr th {\n",
       "        vertical-align: top;\n",
       "    }\n",
       "\n",
       "    .dataframe thead th {\n",
       "        text-align: right;\n",
       "    }\n",
       "</style>\n",
       "<table border=\"1\" class=\"dataframe\">\n",
       "  <thead>\n",
       "    <tr style=\"text-align: right;\">\n",
       "      <th></th>\n",
       "      <th>item_id</th>\n",
       "      <th>user_id</th>\n",
       "      <th>region</th>\n",
       "      <th>city</th>\n",
       "      <th>parent_category_name</th>\n",
       "      <th>category_name</th>\n",
       "      <th>param_1</th>\n",
       "      <th>param_2</th>\n",
       "      <th>param_3</th>\n",
       "      <th>title</th>\n",
       "      <th>description</th>\n",
       "      <th>price</th>\n",
       "      <th>item_seq_number</th>\n",
       "      <th>activation_date</th>\n",
       "      <th>user_type</th>\n",
       "      <th>image</th>\n",
       "      <th>image_top_1</th>\n",
       "      <th>deal_probability</th>\n",
       "    </tr>\n",
       "  </thead>\n",
       "  <tbody>\n",
       "    <tr>\n",
       "      <th>0</th>\n",
       "      <td>b912c3c6a6ad</td>\n",
       "      <td>e00f8ff2eaf9</td>\n",
       "      <td>Свердловская область</td>\n",
       "      <td>Екатеринбург</td>\n",
       "      <td>Личные вещи</td>\n",
       "      <td>Товары для детей и игрушки</td>\n",
       "      <td>Постельные принадлежности</td>\n",
       "      <td>NaN</td>\n",
       "      <td>NaN</td>\n",
       "      <td>Кокоби(кокон для сна)</td>\n",
       "      <td>Кокон для сна малыша,пользовались меньше месяц...</td>\n",
       "      <td>400.0</td>\n",
       "      <td>2</td>\n",
       "      <td>2017-03-28</td>\n",
       "      <td>Private</td>\n",
       "      <td>d10c7e016e03247a3bf2d13348fe959fe6f436c1caf64c...</td>\n",
       "      <td>1008.0</td>\n",
       "      <td>0.12789</td>\n",
       "    </tr>\n",
       "    <tr>\n",
       "      <th>1</th>\n",
       "      <td>2dac0150717d</td>\n",
       "      <td>39aeb48f0017</td>\n",
       "      <td>Самарская область</td>\n",
       "      <td>Самара</td>\n",
       "      <td>Для дома и дачи</td>\n",
       "      <td>Мебель и интерьер</td>\n",
       "      <td>Другое</td>\n",
       "      <td>NaN</td>\n",
       "      <td>NaN</td>\n",
       "      <td>Стойка для Одежды</td>\n",
       "      <td>Стойка для одежды, под вешалки. С бутика.</td>\n",
       "      <td>3000.0</td>\n",
       "      <td>19</td>\n",
       "      <td>2017-03-26</td>\n",
       "      <td>Private</td>\n",
       "      <td>79c9392cc51a9c81c6eb91eceb8e552171db39d7142700...</td>\n",
       "      <td>692.0</td>\n",
       "      <td>0.00000</td>\n",
       "    </tr>\n",
       "    <tr>\n",
       "      <th>2</th>\n",
       "      <td>ba83aefab5dc</td>\n",
       "      <td>91e2f88dd6e3</td>\n",
       "      <td>Ростовская область</td>\n",
       "      <td>Ростов-на-Дону</td>\n",
       "      <td>Бытовая электроника</td>\n",
       "      <td>Аудио и видео</td>\n",
       "      <td>Видео, DVD и Blu-ray плееры</td>\n",
       "      <td>NaN</td>\n",
       "      <td>NaN</td>\n",
       "      <td>Philips bluray</td>\n",
       "      <td>В хорошем состоянии, домашний кинотеатр с blu ...</td>\n",
       "      <td>4000.0</td>\n",
       "      <td>9</td>\n",
       "      <td>2017-03-20</td>\n",
       "      <td>Private</td>\n",
       "      <td>b7f250ee3f39e1fedd77c141f273703f4a9be59db4b48a...</td>\n",
       "      <td>3032.0</td>\n",
       "      <td>0.43177</td>\n",
       "    </tr>\n",
       "    <tr>\n",
       "      <th>3</th>\n",
       "      <td>02996f1dd2ea</td>\n",
       "      <td>bf5cccea572d</td>\n",
       "      <td>Татарстан</td>\n",
       "      <td>Набережные Челны</td>\n",
       "      <td>Личные вещи</td>\n",
       "      <td>Товары для детей и игрушки</td>\n",
       "      <td>Автомобильные кресла</td>\n",
       "      <td>NaN</td>\n",
       "      <td>NaN</td>\n",
       "      <td>Автокресло</td>\n",
       "      <td>Продам кресло от0-25кг</td>\n",
       "      <td>2200.0</td>\n",
       "      <td>286</td>\n",
       "      <td>2017-03-25</td>\n",
       "      <td>Company</td>\n",
       "      <td>e6ef97e0725637ea84e3d203e82dadb43ed3cc0a1c8413...</td>\n",
       "      <td>796.0</td>\n",
       "      <td>0.80323</td>\n",
       "    </tr>\n",
       "    <tr>\n",
       "      <th>4</th>\n",
       "      <td>7c90be56d2ab</td>\n",
       "      <td>ef50846afc0b</td>\n",
       "      <td>Волгоградская область</td>\n",
       "      <td>Волгоград</td>\n",
       "      <td>Транспорт</td>\n",
       "      <td>Автомобили</td>\n",
       "      <td>С пробегом</td>\n",
       "      <td>ВАЗ (LADA)</td>\n",
       "      <td>2110</td>\n",
       "      <td>ВАЗ 2110, 2003</td>\n",
       "      <td>Все вопросы по телефону.</td>\n",
       "      <td>40000.0</td>\n",
       "      <td>3</td>\n",
       "      <td>2017-03-16</td>\n",
       "      <td>Private</td>\n",
       "      <td>54a687a3a0fc1d68aed99bdaaf551c5c70b761b16fd0a2...</td>\n",
       "      <td>2264.0</td>\n",
       "      <td>0.20797</td>\n",
       "    </tr>\n",
       "  </tbody>\n",
       "</table>\n",
       "</div>"
      ],
      "text/plain": [
       "        item_id       user_id                 region              city  \\\n",
       "0  b912c3c6a6ad  e00f8ff2eaf9   Свердловская область      Екатеринбург   \n",
       "1  2dac0150717d  39aeb48f0017      Самарская область            Самара   \n",
       "2  ba83aefab5dc  91e2f88dd6e3     Ростовская область    Ростов-на-Дону   \n",
       "3  02996f1dd2ea  bf5cccea572d              Татарстан  Набережные Челны   \n",
       "4  7c90be56d2ab  ef50846afc0b  Волгоградская область         Волгоград   \n",
       "\n",
       "  parent_category_name               category_name  \\\n",
       "0          Личные вещи  Товары для детей и игрушки   \n",
       "1      Для дома и дачи           Мебель и интерьер   \n",
       "2  Бытовая электроника               Аудио и видео   \n",
       "3          Личные вещи  Товары для детей и игрушки   \n",
       "4            Транспорт                  Автомобили   \n",
       "\n",
       "                       param_1     param_2 param_3                  title  \\\n",
       "0    Постельные принадлежности         NaN     NaN  Кокоби(кокон для сна)   \n",
       "1                       Другое         NaN     NaN      Стойка для Одежды   \n",
       "2  Видео, DVD и Blu-ray плееры         NaN     NaN         Philips bluray   \n",
       "3         Автомобильные кресла         NaN     NaN             Автокресло   \n",
       "4                   С пробегом  ВАЗ (LADA)    2110         ВАЗ 2110, 2003   \n",
       "\n",
       "                                         description    price  \\\n",
       "0  Кокон для сна малыша,пользовались меньше месяц...    400.0   \n",
       "1          Стойка для одежды, под вешалки. С бутика.   3000.0   \n",
       "2  В хорошем состоянии, домашний кинотеатр с blu ...   4000.0   \n",
       "3                             Продам кресло от0-25кг   2200.0   \n",
       "4                           Все вопросы по телефону.  40000.0   \n",
       "\n",
       "   item_seq_number activation_date user_type  \\\n",
       "0                2      2017-03-28   Private   \n",
       "1               19      2017-03-26   Private   \n",
       "2                9      2017-03-20   Private   \n",
       "3              286      2017-03-25   Company   \n",
       "4                3      2017-03-16   Private   \n",
       "\n",
       "                                               image  image_top_1  \\\n",
       "0  d10c7e016e03247a3bf2d13348fe959fe6f436c1caf64c...       1008.0   \n",
       "1  79c9392cc51a9c81c6eb91eceb8e552171db39d7142700...        692.0   \n",
       "2  b7f250ee3f39e1fedd77c141f273703f4a9be59db4b48a...       3032.0   \n",
       "3  e6ef97e0725637ea84e3d203e82dadb43ed3cc0a1c8413...        796.0   \n",
       "4  54a687a3a0fc1d68aed99bdaaf551c5c70b761b16fd0a2...       2264.0   \n",
       "\n",
       "   deal_probability  \n",
       "0           0.12789  \n",
       "1           0.00000  \n",
       "2           0.43177  \n",
       "3           0.80323  \n",
       "4           0.20797  "
      ]
     },
     "execution_count": 4,
     "metadata": {},
     "output_type": "execute_result"
    }
   ],
   "source": [
    "df.head()"
   ]
  },
  {
   "cell_type": "markdown",
   "metadata": {},
   "source": [
    "# What questions would we like to ask of our data? (Queries)"
   ]
  },
  {
   "cell_type": "markdown",
   "metadata": {},
   "source": [
    "** 1. We will want to see which product categories are selling for the most money **"
   ]
  },
  {
   "cell_type": "code",
   "execution_count": 111,
   "metadata": {},
   "outputs": [],
   "source": [
    "cats = df.groupby(['parent_category_name', 'category_name'])['price'].sum()"
   ]
  },
  {
   "cell_type": "code",
   "execution_count": 112,
   "metadata": {},
   "outputs": [
    {
     "data": {
      "text/plain": [
       "parent_category_name  category_name               \n",
       "Бытовая электроника   Аудио и видео                   1.968854e+08\n",
       "                      Игры, приставки и программы     8.243856e+07\n",
       "                      Настольные компьютеры           6.950350e+07\n",
       "                      Ноутбуки                        1.334289e+08\n",
       "                      Оргтехника и расходники         3.441926e+07\n",
       "                      Планшеты и электронные книги    4.319063e+07\n",
       "                      Телефоны                        1.938713e+09\n",
       "                      Товары для компьютера           5.637060e+08\n",
       "                      Фототехника                     7.364336e+07\n",
       "Для бизнеса           Готовый бизнес                  5.209337e+09\n",
       "                      Оборудование для бизнеса        5.425002e+09\n",
       "Для дома и дачи       Бытовая техника                 2.606514e+08\n",
       "                      Мебель и интерьер               2.023284e+09\n",
       "                      Посуда и товары для кухни       2.142016e+07\n",
       "                      Продукты питания                5.274226e+06\n",
       "                      Растения                        1.836789e+07\n",
       "                      Ремонт и строительство          1.084759e+09\n",
       "Животные              Аквариум                        1.354913e+07\n",
       "                      Другие животные                 9.801787e+08\n",
       "                      Кошки                           9.737217e+07\n",
       "                      Птицы                           1.851115e+08\n",
       "                      Собаки                          7.089205e+07\n",
       "                      Товары для животных             4.808048e+07\n",
       "Личные вещи           Детская одежда и обувь          2.604730e+09\n",
       "                      Красота и здоровье              1.280701e+08\n",
       "                      Одежда, обувь, аксессуары       2.296223e+09\n",
       "                      Товары для детей и игрушки      4.054986e+08\n",
       "                      Часы и украшения                2.020404e+08\n",
       "Недвижимость          Гаражи и машиноместа            1.695063e+09\n",
       "                      Дома, дачи, коттеджи            6.824070e+10\n",
       "                      Земельные участки               1.160179e+11\n",
       "                      Квартиры                        1.577530e+11\n",
       "                      Коммерческая недвижимость       4.387208e+10\n",
       "                      Комнаты                         3.147423e+09\n",
       "                      Недвижимость за рубежом         1.212661e+09\n",
       "Транспорт             Автомобили                      2.316548e+10\n",
       "                      Водный транспорт                5.528821e+08\n",
       "                      Грузовики и спецтехника         6.438169e+09\n",
       "                      Мотоциклы и мототехника         7.141610e+08\n",
       "Услуги                Предложение услуг               5.571786e+08\n",
       "Хобби и отдых         Билеты и путешествия            6.572878e+07\n",
       "                      Велосипеды                      8.451264e+07\n",
       "                      Книги и журналы                 1.207772e+08\n",
       "                      Коллекционирование              9.045866e+08\n",
       "                      Музыкальные инструменты         8.081815e+07\n",
       "                      Охота и рыбалка                 2.011413e+07\n",
       "                      Спорт и отдых                   2.527344e+08\n",
       "Name: price, dtype: float64"
      ]
     },
     "execution_count": 112,
     "metadata": {},
     "output_type": "execute_result"
    }
   ],
   "source": [
    "cats"
   ]
  },
  {
   "cell_type": "code",
   "execution_count": 141,
   "metadata": {},
   "outputs": [],
   "source": [
    "cat_df = pd.DataFrame(columns = ['parent_cat', 'cat', 'price'])"
   ]
  },
  {
   "cell_type": "markdown",
   "metadata": {},
   "source": [
    "** We need to parse the group by object as it returns a tuple containing the parent_category and category name then finally add the price **"
   ]
  },
  {
   "cell_type": "code",
   "execution_count": 218,
   "metadata": {},
   "outputs": [],
   "source": [
    "vals = []\n",
    "\n",
    "for i in list(cats.items()):\n",
    "    par = i[0][0] # slicing tuple\n",
    "    cat = i[0][1]\n",
    "    price = i[1] #indexing the price\n",
    "    \n",
    "    vals.append({'parent_cat': par, 'cat': cat, 'price': price})"
   ]
  },
  {
   "cell_type": "code",
   "execution_count": 148,
   "metadata": {},
   "outputs": [],
   "source": [
    "for row in vals:\n",
    "    cat_df = cat_df.append(row, ignore_index = True)"
   ]
  },
  {
   "cell_type": "code",
   "execution_count": 149,
   "metadata": {},
   "outputs": [
    {
     "data": {
      "text/html": [
       "<div>\n",
       "<style scoped>\n",
       "    .dataframe tbody tr th:only-of-type {\n",
       "        vertical-align: middle;\n",
       "    }\n",
       "\n",
       "    .dataframe tbody tr th {\n",
       "        vertical-align: top;\n",
       "    }\n",
       "\n",
       "    .dataframe thead th {\n",
       "        text-align: right;\n",
       "    }\n",
       "</style>\n",
       "<table border=\"1\" class=\"dataframe\">\n",
       "  <thead>\n",
       "    <tr style=\"text-align: right;\">\n",
       "      <th></th>\n",
       "      <th>parent_cat</th>\n",
       "      <th>cat</th>\n",
       "      <th>price</th>\n",
       "    </tr>\n",
       "  </thead>\n",
       "  <tbody>\n",
       "    <tr>\n",
       "      <th>0</th>\n",
       "      <td>Бытовая электроника</td>\n",
       "      <td>Аудио и видео</td>\n",
       "      <td>1.968854e+08</td>\n",
       "    </tr>\n",
       "    <tr>\n",
       "      <th>1</th>\n",
       "      <td>Бытовая электроника</td>\n",
       "      <td>Игры, приставки и программы</td>\n",
       "      <td>8.243856e+07</td>\n",
       "    </tr>\n",
       "    <tr>\n",
       "      <th>2</th>\n",
       "      <td>Бытовая электроника</td>\n",
       "      <td>Настольные компьютеры</td>\n",
       "      <td>6.950350e+07</td>\n",
       "    </tr>\n",
       "    <tr>\n",
       "      <th>3</th>\n",
       "      <td>Бытовая электроника</td>\n",
       "      <td>Ноутбуки</td>\n",
       "      <td>1.334289e+08</td>\n",
       "    </tr>\n",
       "    <tr>\n",
       "      <th>4</th>\n",
       "      <td>Бытовая электроника</td>\n",
       "      <td>Оргтехника и расходники</td>\n",
       "      <td>3.441926e+07</td>\n",
       "    </tr>\n",
       "    <tr>\n",
       "      <th>5</th>\n",
       "      <td>Бытовая электроника</td>\n",
       "      <td>Планшеты и электронные книги</td>\n",
       "      <td>4.319063e+07</td>\n",
       "    </tr>\n",
       "    <tr>\n",
       "      <th>6</th>\n",
       "      <td>Бытовая электроника</td>\n",
       "      <td>Телефоны</td>\n",
       "      <td>1.938713e+09</td>\n",
       "    </tr>\n",
       "    <tr>\n",
       "      <th>7</th>\n",
       "      <td>Бытовая электроника</td>\n",
       "      <td>Товары для компьютера</td>\n",
       "      <td>5.637060e+08</td>\n",
       "    </tr>\n",
       "    <tr>\n",
       "      <th>8</th>\n",
       "      <td>Бытовая электроника</td>\n",
       "      <td>Фототехника</td>\n",
       "      <td>7.364336e+07</td>\n",
       "    </tr>\n",
       "    <tr>\n",
       "      <th>9</th>\n",
       "      <td>Для бизнеса</td>\n",
       "      <td>Готовый бизнес</td>\n",
       "      <td>5.209337e+09</td>\n",
       "    </tr>\n",
       "    <tr>\n",
       "      <th>10</th>\n",
       "      <td>Для бизнеса</td>\n",
       "      <td>Оборудование для бизнеса</td>\n",
       "      <td>5.425002e+09</td>\n",
       "    </tr>\n",
       "    <tr>\n",
       "      <th>11</th>\n",
       "      <td>Для дома и дачи</td>\n",
       "      <td>Бытовая техника</td>\n",
       "      <td>2.606514e+08</td>\n",
       "    </tr>\n",
       "    <tr>\n",
       "      <th>12</th>\n",
       "      <td>Для дома и дачи</td>\n",
       "      <td>Мебель и интерьер</td>\n",
       "      <td>2.023284e+09</td>\n",
       "    </tr>\n",
       "    <tr>\n",
       "      <th>13</th>\n",
       "      <td>Для дома и дачи</td>\n",
       "      <td>Посуда и товары для кухни</td>\n",
       "      <td>2.142016e+07</td>\n",
       "    </tr>\n",
       "    <tr>\n",
       "      <th>14</th>\n",
       "      <td>Для дома и дачи</td>\n",
       "      <td>Продукты питания</td>\n",
       "      <td>5.274226e+06</td>\n",
       "    </tr>\n",
       "    <tr>\n",
       "      <th>15</th>\n",
       "      <td>Для дома и дачи</td>\n",
       "      <td>Растения</td>\n",
       "      <td>1.836789e+07</td>\n",
       "    </tr>\n",
       "    <tr>\n",
       "      <th>16</th>\n",
       "      <td>Для дома и дачи</td>\n",
       "      <td>Ремонт и строительство</td>\n",
       "      <td>1.084759e+09</td>\n",
       "    </tr>\n",
       "    <tr>\n",
       "      <th>17</th>\n",
       "      <td>Животные</td>\n",
       "      <td>Аквариум</td>\n",
       "      <td>1.354913e+07</td>\n",
       "    </tr>\n",
       "    <tr>\n",
       "      <th>18</th>\n",
       "      <td>Животные</td>\n",
       "      <td>Другие животные</td>\n",
       "      <td>9.801787e+08</td>\n",
       "    </tr>\n",
       "    <tr>\n",
       "      <th>19</th>\n",
       "      <td>Животные</td>\n",
       "      <td>Кошки</td>\n",
       "      <td>9.737217e+07</td>\n",
       "    </tr>\n",
       "    <tr>\n",
       "      <th>20</th>\n",
       "      <td>Животные</td>\n",
       "      <td>Птицы</td>\n",
       "      <td>1.851115e+08</td>\n",
       "    </tr>\n",
       "    <tr>\n",
       "      <th>21</th>\n",
       "      <td>Животные</td>\n",
       "      <td>Собаки</td>\n",
       "      <td>7.089205e+07</td>\n",
       "    </tr>\n",
       "    <tr>\n",
       "      <th>22</th>\n",
       "      <td>Животные</td>\n",
       "      <td>Товары для животных</td>\n",
       "      <td>4.808048e+07</td>\n",
       "    </tr>\n",
       "    <tr>\n",
       "      <th>23</th>\n",
       "      <td>Личные вещи</td>\n",
       "      <td>Детская одежда и обувь</td>\n",
       "      <td>2.604730e+09</td>\n",
       "    </tr>\n",
       "    <tr>\n",
       "      <th>24</th>\n",
       "      <td>Личные вещи</td>\n",
       "      <td>Красота и здоровье</td>\n",
       "      <td>1.280701e+08</td>\n",
       "    </tr>\n",
       "    <tr>\n",
       "      <th>25</th>\n",
       "      <td>Личные вещи</td>\n",
       "      <td>Одежда, обувь, аксессуары</td>\n",
       "      <td>2.296223e+09</td>\n",
       "    </tr>\n",
       "    <tr>\n",
       "      <th>26</th>\n",
       "      <td>Личные вещи</td>\n",
       "      <td>Товары для детей и игрушки</td>\n",
       "      <td>4.054986e+08</td>\n",
       "    </tr>\n",
       "    <tr>\n",
       "      <th>27</th>\n",
       "      <td>Личные вещи</td>\n",
       "      <td>Часы и украшения</td>\n",
       "      <td>2.020404e+08</td>\n",
       "    </tr>\n",
       "    <tr>\n",
       "      <th>28</th>\n",
       "      <td>Недвижимость</td>\n",
       "      <td>Гаражи и машиноместа</td>\n",
       "      <td>1.695063e+09</td>\n",
       "    </tr>\n",
       "    <tr>\n",
       "      <th>29</th>\n",
       "      <td>Недвижимость</td>\n",
       "      <td>Дома, дачи, коттеджи</td>\n",
       "      <td>6.824070e+10</td>\n",
       "    </tr>\n",
       "    <tr>\n",
       "      <th>30</th>\n",
       "      <td>Недвижимость</td>\n",
       "      <td>Земельные участки</td>\n",
       "      <td>1.160179e+11</td>\n",
       "    </tr>\n",
       "    <tr>\n",
       "      <th>31</th>\n",
       "      <td>Недвижимость</td>\n",
       "      <td>Квартиры</td>\n",
       "      <td>1.577530e+11</td>\n",
       "    </tr>\n",
       "    <tr>\n",
       "      <th>32</th>\n",
       "      <td>Недвижимость</td>\n",
       "      <td>Коммерческая недвижимость</td>\n",
       "      <td>4.387208e+10</td>\n",
       "    </tr>\n",
       "    <tr>\n",
       "      <th>33</th>\n",
       "      <td>Недвижимость</td>\n",
       "      <td>Комнаты</td>\n",
       "      <td>3.147423e+09</td>\n",
       "    </tr>\n",
       "    <tr>\n",
       "      <th>34</th>\n",
       "      <td>Недвижимость</td>\n",
       "      <td>Недвижимость за рубежом</td>\n",
       "      <td>1.212661e+09</td>\n",
       "    </tr>\n",
       "    <tr>\n",
       "      <th>35</th>\n",
       "      <td>Транспорт</td>\n",
       "      <td>Автомобили</td>\n",
       "      <td>2.316548e+10</td>\n",
       "    </tr>\n",
       "    <tr>\n",
       "      <th>36</th>\n",
       "      <td>Транспорт</td>\n",
       "      <td>Водный транспорт</td>\n",
       "      <td>5.528821e+08</td>\n",
       "    </tr>\n",
       "    <tr>\n",
       "      <th>37</th>\n",
       "      <td>Транспорт</td>\n",
       "      <td>Грузовики и спецтехника</td>\n",
       "      <td>6.438169e+09</td>\n",
       "    </tr>\n",
       "    <tr>\n",
       "      <th>38</th>\n",
       "      <td>Транспорт</td>\n",
       "      <td>Мотоциклы и мототехника</td>\n",
       "      <td>7.141610e+08</td>\n",
       "    </tr>\n",
       "    <tr>\n",
       "      <th>39</th>\n",
       "      <td>Услуги</td>\n",
       "      <td>Предложение услуг</td>\n",
       "      <td>5.571786e+08</td>\n",
       "    </tr>\n",
       "    <tr>\n",
       "      <th>40</th>\n",
       "      <td>Хобби и отдых</td>\n",
       "      <td>Билеты и путешествия</td>\n",
       "      <td>6.572878e+07</td>\n",
       "    </tr>\n",
       "    <tr>\n",
       "      <th>41</th>\n",
       "      <td>Хобби и отдых</td>\n",
       "      <td>Велосипеды</td>\n",
       "      <td>8.451264e+07</td>\n",
       "    </tr>\n",
       "    <tr>\n",
       "      <th>42</th>\n",
       "      <td>Хобби и отдых</td>\n",
       "      <td>Книги и журналы</td>\n",
       "      <td>1.207772e+08</td>\n",
       "    </tr>\n",
       "    <tr>\n",
       "      <th>43</th>\n",
       "      <td>Хобби и отдых</td>\n",
       "      <td>Коллекционирование</td>\n",
       "      <td>9.045866e+08</td>\n",
       "    </tr>\n",
       "    <tr>\n",
       "      <th>44</th>\n",
       "      <td>Хобби и отдых</td>\n",
       "      <td>Музыкальные инструменты</td>\n",
       "      <td>8.081815e+07</td>\n",
       "    </tr>\n",
       "    <tr>\n",
       "      <th>45</th>\n",
       "      <td>Хобби и отдых</td>\n",
       "      <td>Охота и рыбалка</td>\n",
       "      <td>2.011413e+07</td>\n",
       "    </tr>\n",
       "    <tr>\n",
       "      <th>46</th>\n",
       "      <td>Хобби и отдых</td>\n",
       "      <td>Спорт и отдых</td>\n",
       "      <td>2.527344e+08</td>\n",
       "    </tr>\n",
       "  </tbody>\n",
       "</table>\n",
       "</div>"
      ],
      "text/plain": [
       "             parent_cat                           cat         price\n",
       "0   Бытовая электроника                 Аудио и видео  1.968854e+08\n",
       "1   Бытовая электроника   Игры, приставки и программы  8.243856e+07\n",
       "2   Бытовая электроника         Настольные компьютеры  6.950350e+07\n",
       "3   Бытовая электроника                      Ноутбуки  1.334289e+08\n",
       "4   Бытовая электроника       Оргтехника и расходники  3.441926e+07\n",
       "5   Бытовая электроника  Планшеты и электронные книги  4.319063e+07\n",
       "6   Бытовая электроника                      Телефоны  1.938713e+09\n",
       "7   Бытовая электроника         Товары для компьютера  5.637060e+08\n",
       "8   Бытовая электроника                   Фототехника  7.364336e+07\n",
       "9           Для бизнеса                Готовый бизнес  5.209337e+09\n",
       "10          Для бизнеса      Оборудование для бизнеса  5.425002e+09\n",
       "11      Для дома и дачи               Бытовая техника  2.606514e+08\n",
       "12      Для дома и дачи             Мебель и интерьер  2.023284e+09\n",
       "13      Для дома и дачи     Посуда и товары для кухни  2.142016e+07\n",
       "14      Для дома и дачи              Продукты питания  5.274226e+06\n",
       "15      Для дома и дачи                      Растения  1.836789e+07\n",
       "16      Для дома и дачи        Ремонт и строительство  1.084759e+09\n",
       "17             Животные                      Аквариум  1.354913e+07\n",
       "18             Животные               Другие животные  9.801787e+08\n",
       "19             Животные                         Кошки  9.737217e+07\n",
       "20             Животные                         Птицы  1.851115e+08\n",
       "21             Животные                        Собаки  7.089205e+07\n",
       "22             Животные           Товары для животных  4.808048e+07\n",
       "23          Личные вещи        Детская одежда и обувь  2.604730e+09\n",
       "24          Личные вещи            Красота и здоровье  1.280701e+08\n",
       "25          Личные вещи     Одежда, обувь, аксессуары  2.296223e+09\n",
       "26          Личные вещи    Товары для детей и игрушки  4.054986e+08\n",
       "27          Личные вещи              Часы и украшения  2.020404e+08\n",
       "28         Недвижимость          Гаражи и машиноместа  1.695063e+09\n",
       "29         Недвижимость          Дома, дачи, коттеджи  6.824070e+10\n",
       "30         Недвижимость             Земельные участки  1.160179e+11\n",
       "31         Недвижимость                      Квартиры  1.577530e+11\n",
       "32         Недвижимость     Коммерческая недвижимость  4.387208e+10\n",
       "33         Недвижимость                       Комнаты  3.147423e+09\n",
       "34         Недвижимость       Недвижимость за рубежом  1.212661e+09\n",
       "35            Транспорт                    Автомобили  2.316548e+10\n",
       "36            Транспорт              Водный транспорт  5.528821e+08\n",
       "37            Транспорт       Грузовики и спецтехника  6.438169e+09\n",
       "38            Транспорт       Мотоциклы и мототехника  7.141610e+08\n",
       "39               Услуги             Предложение услуг  5.571786e+08\n",
       "40        Хобби и отдых          Билеты и путешествия  6.572878e+07\n",
       "41        Хобби и отдых                    Велосипеды  8.451264e+07\n",
       "42        Хобби и отдых               Книги и журналы  1.207772e+08\n",
       "43        Хобби и отдых            Коллекционирование  9.045866e+08\n",
       "44        Хобби и отдых       Музыкальные инструменты  8.081815e+07\n",
       "45        Хобби и отдых               Охота и рыбалка  2.011413e+07\n",
       "46        Хобби и отдых                 Спорт и отдых  2.527344e+08"
      ]
     },
     "execution_count": 149,
     "metadata": {},
     "output_type": "execute_result"
    }
   ],
   "source": [
    "cat_df"
   ]
  },
  {
   "cell_type": "code",
   "execution_count": 117,
   "metadata": {},
   "outputs": [
    {
     "data": {
      "text/plain": [
       "parent_category_name  category_name              \n",
       "Бытовая электроника   Аудио и видео                  196885444.0\n",
       "                      Игры, приставки и программы     82438559.0\n",
       "                      Настольные компьютеры           69503505.0\n",
       "                      Ноутбуки                       133428918.0\n",
       "                      Оргтехника и расходники         34419258.0\n",
       "Name: price, dtype: float64"
      ]
     },
     "execution_count": 117,
     "metadata": {},
     "output_type": "execute_result"
    }
   ],
   "source": [
    "cats.head()"
   ]
  },
  {
   "cell_type": "markdown",
   "metadata": {},
   "source": [
    "** 2. We will also want to perform queries to analyze listing prices of a particular region/city. So we will create another dataframe that contains these. It will later have it's own table in our NoSQL database **"
   ]
  },
  {
   "cell_type": "code",
   "execution_count": 156,
   "metadata": {},
   "outputs": [],
   "source": [
    "regions = df.groupby([\"region\", \"city\"])['price'].sum()"
   ]
  },
  {
   "cell_type": "code",
   "execution_count": 157,
   "metadata": {},
   "outputs": [],
   "source": [
    "region_df = pd.DataFrame(columns = ['region', 'city', 'price'])"
   ]
  },
  {
   "cell_type": "code",
   "execution_count": 158,
   "metadata": {},
   "outputs": [],
   "source": [
    "vals = []\n",
    "\n",
    "for i in list(regions.items()):\n",
    "    region = i[0][0]\n",
    "    city = i[0][1]\n",
    "    price = i[1]\n",
    "    \n",
    "    vals.append({'region': region, 'city': city, 'price': price})"
   ]
  },
  {
   "cell_type": "code",
   "execution_count": 159,
   "metadata": {},
   "outputs": [],
   "source": [
    "for row in vals:\n",
    "    region_df = region_df.append(row, ignore_index = True)"
   ]
  },
  {
   "cell_type": "code",
   "execution_count": 160,
   "metadata": {},
   "outputs": [
    {
     "data": {
      "text/html": [
       "<div>\n",
       "<style scoped>\n",
       "    .dataframe tbody tr th:only-of-type {\n",
       "        vertical-align: middle;\n",
       "    }\n",
       "\n",
       "    .dataframe tbody tr th {\n",
       "        vertical-align: top;\n",
       "    }\n",
       "\n",
       "    .dataframe thead th {\n",
       "        text-align: right;\n",
       "    }\n",
       "</style>\n",
       "<table border=\"1\" class=\"dataframe\">\n",
       "  <thead>\n",
       "    <tr style=\"text-align: right;\">\n",
       "      <th></th>\n",
       "      <th>region</th>\n",
       "      <th>city</th>\n",
       "      <th>price</th>\n",
       "    </tr>\n",
       "  </thead>\n",
       "  <tbody>\n",
       "    <tr>\n",
       "      <th>0</th>\n",
       "      <td>Алтайский край</td>\n",
       "      <td>Алейск</td>\n",
       "      <td>2.199207e+07</td>\n",
       "    </tr>\n",
       "    <tr>\n",
       "      <th>1</th>\n",
       "      <td>Алтайский край</td>\n",
       "      <td>Алтайское</td>\n",
       "      <td>1.960618e+07</td>\n",
       "    </tr>\n",
       "    <tr>\n",
       "      <th>2</th>\n",
       "      <td>Алтайский край</td>\n",
       "      <td>Баево</td>\n",
       "      <td>2.895200e+06</td>\n",
       "    </tr>\n",
       "    <tr>\n",
       "      <th>3</th>\n",
       "      <td>Алтайский край</td>\n",
       "      <td>Барнаул</td>\n",
       "      <td>3.404534e+09</td>\n",
       "    </tr>\n",
       "    <tr>\n",
       "      <th>4</th>\n",
       "      <td>Алтайский край</td>\n",
       "      <td>Белокуриха</td>\n",
       "      <td>7.425379e+07</td>\n",
       "    </tr>\n",
       "    <tr>\n",
       "      <th>5</th>\n",
       "      <td>Алтайский край</td>\n",
       "      <td>Белоярск</td>\n",
       "      <td>9.871100e+05</td>\n",
       "    </tr>\n",
       "    <tr>\n",
       "      <th>6</th>\n",
       "      <td>Алтайский край</td>\n",
       "      <td>Березовка</td>\n",
       "      <td>5.411800e+06</td>\n",
       "    </tr>\n",
       "    <tr>\n",
       "      <th>7</th>\n",
       "      <td>Алтайский край</td>\n",
       "      <td>Бийск</td>\n",
       "      <td>7.828141e+08</td>\n",
       "    </tr>\n",
       "    <tr>\n",
       "      <th>8</th>\n",
       "      <td>Алтайский край</td>\n",
       "      <td>Благовещенка</td>\n",
       "      <td>8.394040e+06</td>\n",
       "    </tr>\n",
       "    <tr>\n",
       "      <th>9</th>\n",
       "      <td>Алтайский край</td>\n",
       "      <td>Боровиха</td>\n",
       "      <td>5.366400e+06</td>\n",
       "    </tr>\n",
       "    <tr>\n",
       "      <th>10</th>\n",
       "      <td>Алтайский край</td>\n",
       "      <td>Бурла</td>\n",
       "      <td>3.061900e+06</td>\n",
       "    </tr>\n",
       "    <tr>\n",
       "      <th>11</th>\n",
       "      <td>Алтайский край</td>\n",
       "      <td>Быстрый Исток</td>\n",
       "      <td>4.785000e+05</td>\n",
       "    </tr>\n",
       "    <tr>\n",
       "      <th>12</th>\n",
       "      <td>Алтайский край</td>\n",
       "      <td>Верх-Катунское</td>\n",
       "      <td>1.608000e+06</td>\n",
       "    </tr>\n",
       "    <tr>\n",
       "      <th>13</th>\n",
       "      <td>Алтайский край</td>\n",
       "      <td>Волчиха</td>\n",
       "      <td>9.891800e+06</td>\n",
       "    </tr>\n",
       "    <tr>\n",
       "      <th>14</th>\n",
       "      <td>Алтайский край</td>\n",
       "      <td>Горняк</td>\n",
       "      <td>1.601267e+07</td>\n",
       "    </tr>\n",
       "    <tr>\n",
       "      <th>15</th>\n",
       "      <td>Алтайский край</td>\n",
       "      <td>Ельцовка</td>\n",
       "      <td>6.960000e+05</td>\n",
       "    </tr>\n",
       "    <tr>\n",
       "      <th>16</th>\n",
       "      <td>Алтайский край</td>\n",
       "      <td>Завьялово</td>\n",
       "      <td>9.593500e+06</td>\n",
       "    </tr>\n",
       "    <tr>\n",
       "      <th>17</th>\n",
       "      <td>Алтайский край</td>\n",
       "      <td>Залесово</td>\n",
       "      <td>5.669500e+06</td>\n",
       "    </tr>\n",
       "    <tr>\n",
       "      <th>18</th>\n",
       "      <td>Алтайский край</td>\n",
       "      <td>Заринск</td>\n",
       "      <td>5.043466e+07</td>\n",
       "    </tr>\n",
       "    <tr>\n",
       "      <th>19</th>\n",
       "      <td>Алтайский край</td>\n",
       "      <td>Змеиногорск</td>\n",
       "      <td>9.193165e+06</td>\n",
       "    </tr>\n",
       "    <tr>\n",
       "      <th>20</th>\n",
       "      <td>Алтайский край</td>\n",
       "      <td>Зональное</td>\n",
       "      <td>2.073220e+06</td>\n",
       "    </tr>\n",
       "    <tr>\n",
       "      <th>21</th>\n",
       "      <td>Алтайский край</td>\n",
       "      <td>Зудилово</td>\n",
       "      <td>1.440000e+07</td>\n",
       "    </tr>\n",
       "    <tr>\n",
       "      <th>22</th>\n",
       "      <td>Алтайский край</td>\n",
       "      <td>Калманка</td>\n",
       "      <td>1.086230e+07</td>\n",
       "    </tr>\n",
       "    <tr>\n",
       "      <th>23</th>\n",
       "      <td>Алтайский край</td>\n",
       "      <td>Камень-на-Оби</td>\n",
       "      <td>5.925978e+07</td>\n",
       "    </tr>\n",
       "    <tr>\n",
       "      <th>24</th>\n",
       "      <td>Алтайский край</td>\n",
       "      <td>Ключи</td>\n",
       "      <td>2.245800e+06</td>\n",
       "    </tr>\n",
       "    <tr>\n",
       "      <th>25</th>\n",
       "      <td>Алтайский край</td>\n",
       "      <td>Косиха</td>\n",
       "      <td>6.807500e+06</td>\n",
       "    </tr>\n",
       "    <tr>\n",
       "      <th>26</th>\n",
       "      <td>Алтайский край</td>\n",
       "      <td>Красногорское</td>\n",
       "      <td>5.818000e+06</td>\n",
       "    </tr>\n",
       "    <tr>\n",
       "      <th>27</th>\n",
       "      <td>Алтайский край</td>\n",
       "      <td>Краснощеково</td>\n",
       "      <td>1.371035e+07</td>\n",
       "    </tr>\n",
       "    <tr>\n",
       "      <th>28</th>\n",
       "      <td>Алтайский край</td>\n",
       "      <td>Крутиха</td>\n",
       "      <td>1.177190e+06</td>\n",
       "    </tr>\n",
       "    <tr>\n",
       "      <th>29</th>\n",
       "      <td>Алтайский край</td>\n",
       "      <td>Кулунда</td>\n",
       "      <td>1.379365e+07</td>\n",
       "    </tr>\n",
       "    <tr>\n",
       "      <th>...</th>\n",
       "      <td>...</td>\n",
       "      <td>...</td>\n",
       "      <td>...</td>\n",
       "    </tr>\n",
       "    <tr>\n",
       "      <th>1774</th>\n",
       "      <td>Челябинская область</td>\n",
       "      <td>Чесма</td>\n",
       "      <td>2.822150e+07</td>\n",
       "    </tr>\n",
       "    <tr>\n",
       "      <th>1775</th>\n",
       "      <td>Челябинская область</td>\n",
       "      <td>Южноуральск</td>\n",
       "      <td>1.496754e+08</td>\n",
       "    </tr>\n",
       "    <tr>\n",
       "      <th>1776</th>\n",
       "      <td>Челябинская область</td>\n",
       "      <td>Юрюзань</td>\n",
       "      <td>2.360096e+07</td>\n",
       "    </tr>\n",
       "    <tr>\n",
       "      <th>1777</th>\n",
       "      <td>Ярославская область</td>\n",
       "      <td>Большое Село</td>\n",
       "      <td>5.653220e+06</td>\n",
       "    </tr>\n",
       "    <tr>\n",
       "      <th>1778</th>\n",
       "      <td>Ярославская область</td>\n",
       "      <td>Борисоглебский</td>\n",
       "      <td>1.936995e+07</td>\n",
       "    </tr>\n",
       "    <tr>\n",
       "      <th>1779</th>\n",
       "      <td>Ярославская область</td>\n",
       "      <td>Брейтово</td>\n",
       "      <td>2.981850e+06</td>\n",
       "    </tr>\n",
       "    <tr>\n",
       "      <th>1780</th>\n",
       "      <td>Ярославская область</td>\n",
       "      <td>Бурмакино</td>\n",
       "      <td>3.120700e+06</td>\n",
       "    </tr>\n",
       "    <tr>\n",
       "      <th>1781</th>\n",
       "      <td>Ярославская область</td>\n",
       "      <td>Волга</td>\n",
       "      <td>1.350300e+06</td>\n",
       "    </tr>\n",
       "    <tr>\n",
       "      <th>1782</th>\n",
       "      <td>Ярославская область</td>\n",
       "      <td>Гаврилов-Ям</td>\n",
       "      <td>2.314973e+07</td>\n",
       "    </tr>\n",
       "    <tr>\n",
       "      <th>1783</th>\n",
       "      <td>Ярославская область</td>\n",
       "      <td>Данилов</td>\n",
       "      <td>1.533420e+07</td>\n",
       "    </tr>\n",
       "    <tr>\n",
       "      <th>1784</th>\n",
       "      <td>Ярославская область</td>\n",
       "      <td>Дубки</td>\n",
       "      <td>5.911200e+06</td>\n",
       "    </tr>\n",
       "    <tr>\n",
       "      <th>1785</th>\n",
       "      <td>Ярославская область</td>\n",
       "      <td>Ишня</td>\n",
       "      <td>9.900000e+06</td>\n",
       "    </tr>\n",
       "    <tr>\n",
       "      <th>1786</th>\n",
       "      <td>Ярославская область</td>\n",
       "      <td>Константиновский</td>\n",
       "      <td>6.202010e+06</td>\n",
       "    </tr>\n",
       "    <tr>\n",
       "      <th>1787</th>\n",
       "      <td>Ярославская область</td>\n",
       "      <td>Красные Ткачи</td>\n",
       "      <td>7.315050e+06</td>\n",
       "    </tr>\n",
       "    <tr>\n",
       "      <th>1788</th>\n",
       "      <td>Ярославская область</td>\n",
       "      <td>Лесная Поляна</td>\n",
       "      <td>1.393350e+07</td>\n",
       "    </tr>\n",
       "    <tr>\n",
       "      <th>1789</th>\n",
       "      <td>Ярославская область</td>\n",
       "      <td>Любим</td>\n",
       "      <td>3.708730e+06</td>\n",
       "    </tr>\n",
       "    <tr>\n",
       "      <th>1790</th>\n",
       "      <td>Ярославская область</td>\n",
       "      <td>Мышкин</td>\n",
       "      <td>3.153149e+07</td>\n",
       "    </tr>\n",
       "    <tr>\n",
       "      <th>1791</th>\n",
       "      <td>Ярославская область</td>\n",
       "      <td>Некрасовское</td>\n",
       "      <td>3.664295e+07</td>\n",
       "    </tr>\n",
       "    <tr>\n",
       "      <th>1792</th>\n",
       "      <td>Ярославская область</td>\n",
       "      <td>Новый Некоуз</td>\n",
       "      <td>9.516950e+06</td>\n",
       "    </tr>\n",
       "    <tr>\n",
       "      <th>1793</th>\n",
       "      <td>Ярославская область</td>\n",
       "      <td>Переславль-Залесский</td>\n",
       "      <td>2.190377e+08</td>\n",
       "    </tr>\n",
       "    <tr>\n",
       "      <th>1794</th>\n",
       "      <td>Ярославская область</td>\n",
       "      <td>Петровское</td>\n",
       "      <td>9.018392e+06</td>\n",
       "    </tr>\n",
       "    <tr>\n",
       "      <th>1795</th>\n",
       "      <td>Ярославская область</td>\n",
       "      <td>Пошехонье</td>\n",
       "      <td>1.317619e+07</td>\n",
       "    </tr>\n",
       "    <tr>\n",
       "      <th>1796</th>\n",
       "      <td>Ярославская область</td>\n",
       "      <td>Пречистое</td>\n",
       "      <td>5.043500e+06</td>\n",
       "    </tr>\n",
       "    <tr>\n",
       "      <th>1797</th>\n",
       "      <td>Ярославская область</td>\n",
       "      <td>Ростов</td>\n",
       "      <td>8.736999e+07</td>\n",
       "    </tr>\n",
       "    <tr>\n",
       "      <th>1798</th>\n",
       "      <td>Ярославская область</td>\n",
       "      <td>Рыбинск</td>\n",
       "      <td>4.308217e+08</td>\n",
       "    </tr>\n",
       "    <tr>\n",
       "      <th>1799</th>\n",
       "      <td>Ярославская область</td>\n",
       "      <td>Семибратово</td>\n",
       "      <td>5.753100e+06</td>\n",
       "    </tr>\n",
       "    <tr>\n",
       "      <th>1800</th>\n",
       "      <td>Ярославская область</td>\n",
       "      <td>Туношна</td>\n",
       "      <td>7.800000e+05</td>\n",
       "    </tr>\n",
       "    <tr>\n",
       "      <th>1801</th>\n",
       "      <td>Ярославская область</td>\n",
       "      <td>Тутаев</td>\n",
       "      <td>8.334898e+07</td>\n",
       "    </tr>\n",
       "    <tr>\n",
       "      <th>1802</th>\n",
       "      <td>Ярославская область</td>\n",
       "      <td>Углич</td>\n",
       "      <td>1.030151e+08</td>\n",
       "    </tr>\n",
       "    <tr>\n",
       "      <th>1803</th>\n",
       "      <td>Ярославская область</td>\n",
       "      <td>Ярославль</td>\n",
       "      <td>2.723194e+09</td>\n",
       "    </tr>\n",
       "  </tbody>\n",
       "</table>\n",
       "<p>1804 rows × 3 columns</p>\n",
       "</div>"
      ],
      "text/plain": [
       "                   region                  city         price\n",
       "0          Алтайский край                Алейск  2.199207e+07\n",
       "1          Алтайский край             Алтайское  1.960618e+07\n",
       "2          Алтайский край                 Баево  2.895200e+06\n",
       "3          Алтайский край               Барнаул  3.404534e+09\n",
       "4          Алтайский край            Белокуриха  7.425379e+07\n",
       "5          Алтайский край              Белоярск  9.871100e+05\n",
       "6          Алтайский край             Березовка  5.411800e+06\n",
       "7          Алтайский край                 Бийск  7.828141e+08\n",
       "8          Алтайский край          Благовещенка  8.394040e+06\n",
       "9          Алтайский край              Боровиха  5.366400e+06\n",
       "10         Алтайский край                 Бурла  3.061900e+06\n",
       "11         Алтайский край         Быстрый Исток  4.785000e+05\n",
       "12         Алтайский край        Верх-Катунское  1.608000e+06\n",
       "13         Алтайский край               Волчиха  9.891800e+06\n",
       "14         Алтайский край                Горняк  1.601267e+07\n",
       "15         Алтайский край              Ельцовка  6.960000e+05\n",
       "16         Алтайский край             Завьялово  9.593500e+06\n",
       "17         Алтайский край              Залесово  5.669500e+06\n",
       "18         Алтайский край               Заринск  5.043466e+07\n",
       "19         Алтайский край           Змеиногорск  9.193165e+06\n",
       "20         Алтайский край             Зональное  2.073220e+06\n",
       "21         Алтайский край              Зудилово  1.440000e+07\n",
       "22         Алтайский край              Калманка  1.086230e+07\n",
       "23         Алтайский край         Камень-на-Оби  5.925978e+07\n",
       "24         Алтайский край                 Ключи  2.245800e+06\n",
       "25         Алтайский край                Косиха  6.807500e+06\n",
       "26         Алтайский край         Красногорское  5.818000e+06\n",
       "27         Алтайский край          Краснощеково  1.371035e+07\n",
       "28         Алтайский край               Крутиха  1.177190e+06\n",
       "29         Алтайский край               Кулунда  1.379365e+07\n",
       "...                   ...                   ...           ...\n",
       "1774  Челябинская область                 Чесма  2.822150e+07\n",
       "1775  Челябинская область           Южноуральск  1.496754e+08\n",
       "1776  Челябинская область               Юрюзань  2.360096e+07\n",
       "1777  Ярославская область          Большое Село  5.653220e+06\n",
       "1778  Ярославская область        Борисоглебский  1.936995e+07\n",
       "1779  Ярославская область              Брейтово  2.981850e+06\n",
       "1780  Ярославская область             Бурмакино  3.120700e+06\n",
       "1781  Ярославская область                 Волга  1.350300e+06\n",
       "1782  Ярославская область           Гаврилов-Ям  2.314973e+07\n",
       "1783  Ярославская область               Данилов  1.533420e+07\n",
       "1784  Ярославская область                 Дубки  5.911200e+06\n",
       "1785  Ярославская область                  Ишня  9.900000e+06\n",
       "1786  Ярославская область      Константиновский  6.202010e+06\n",
       "1787  Ярославская область         Красные Ткачи  7.315050e+06\n",
       "1788  Ярославская область         Лесная Поляна  1.393350e+07\n",
       "1789  Ярославская область                 Любим  3.708730e+06\n",
       "1790  Ярославская область                Мышкин  3.153149e+07\n",
       "1791  Ярославская область          Некрасовское  3.664295e+07\n",
       "1792  Ярославская область          Новый Некоуз  9.516950e+06\n",
       "1793  Ярославская область  Переславль-Залесский  2.190377e+08\n",
       "1794  Ярославская область            Петровское  9.018392e+06\n",
       "1795  Ярославская область             Пошехонье  1.317619e+07\n",
       "1796  Ярославская область             Пречистое  5.043500e+06\n",
       "1797  Ярославская область                Ростов  8.736999e+07\n",
       "1798  Ярославская область               Рыбинск  4.308217e+08\n",
       "1799  Ярославская область           Семибратово  5.753100e+06\n",
       "1800  Ярославская область               Туношна  7.800000e+05\n",
       "1801  Ярославская область                Тутаев  8.334898e+07\n",
       "1802  Ярославская область                 Углич  1.030151e+08\n",
       "1803  Ярославская область             Ярославль  2.723194e+09\n",
       "\n",
       "[1804 rows x 3 columns]"
      ]
     },
     "execution_count": 160,
     "metadata": {},
     "output_type": "execute_result"
    }
   ],
   "source": [
    "region_df"
   ]
  },
  {
   "cell_type": "markdown",
   "metadata": {},
   "source": [
    "** 3. Now we would like to know some information about particular users and the items which they are selling as well as price. We will once again perform a groupby in pandas to extract this information designing our template for our NoSQL database**"
   ]
  },
  {
   "cell_type": "code",
   "execution_count": 221,
   "metadata": {},
   "outputs": [],
   "source": [
    "user = df.groupby(['user_id', 'item_id'])['price'].sum()"
   ]
  },
  {
   "cell_type": "code",
   "execution_count": 222,
   "metadata": {},
   "outputs": [
    {
     "data": {
      "text/plain": [
       "user_id       item_id     \n",
       "0000312c4672  daf6372193bf       9000.0\n",
       "0000326c6042  738274adfd4c       4500.0\n",
       "              8b2644d943b9       2500.0\n",
       "000041bbfe14  0668052f1187        600.0\n",
       "00007ac91e3b  1f294faa133e        600.0\n",
       "0000ae7a109b  2200facb389c        300.0\n",
       "              4bbb8d9fc0b0        800.0\n",
       "              a152bfe57f8d        250.0\n",
       "              e10d8fb6ceba        300.0\n",
       "0000ba56add7  12ef785613d7       1500.0\n",
       "              1f82e2feffe0        700.0\n",
       "              887752eef45c        500.0\n",
       "0000c92ec9da  7cc62860e790      12000.0\n",
       "0000d3a89c6c  b9e9cea86bc4          0.0\n",
       "00010065b954  8ce5876e9e35       5700.0\n",
       "00015192e150  fcddd183589b      85000.0\n",
       "000174d99005  6e01a0f71296      11999.0\n",
       "000178adae29  9714e608c4eb        900.0\n",
       "              f7b5726ea8e0       1500.0\n",
       "000185c6e01e  b0e50a8663dc         10.0\n",
       "              fcfb11cf17dc          0.0\n",
       "00019abf543d  16f6ef4b7319        500.0\n",
       "              5e25eeb0b5b1        300.0\n",
       "              943e8cc6f2fa        250.0\n",
       "              a214426bded2        250.0\n",
       "              a3b78bdbbe67       1000.0\n",
       "              aeb006c7f165        450.0\n",
       "              b99da3900a5f        150.0\n",
       "              bd889cfa017e        200.0\n",
       "              cedf8e49b0f8       1000.0\n",
       "                                ...    \n",
       "fffe5b7fc44e  6b731ab5377e      14000.0\n",
       "fffe87a330c2  59c1becc01d8     100000.0\n",
       "fffe978b5c51  17698efabc3c        500.0\n",
       "              7eee42bce5a2       1000.0\n",
       "              f1003421dc9e        400.0\n",
       "fffe9ff0cd87  b74fe402115a       5000.0\n",
       "fffea1abc31a  c49964d9733e       1200.0\n",
       "fffecb77de89  206adf66d259        470.0\n",
       "              2ae9f28c0818        500.0\n",
       "              738377b47c5b        550.0\n",
       "fffed55454dc  79b9d81680d8    3500000.0\n",
       "fffefdc87fc3  8b0ad38957bf        200.0\n",
       "fffefebbdca7  b46b153b9c3b          0.0\n",
       "fffeffc90f0a  281fc6530005       1500.0\n",
       "              c998aa63cd92       1000.0\n",
       "ffff0541c189  085281c9911f      65000.0\n",
       "              d29cad5d67b6      60000.0\n",
       "ffff2c17ebd9  13d4778faaf4       1500.0\n",
       "ffff528bbe5c  9a0597fab55d     290000.0\n",
       "ffff55a390fd  83289fa9c093      13000.0\n",
       "ffff6e16ee6a  0d60db1a9715          0.0\n",
       "              25651883c205       5700.0\n",
       "              524d09933a32       1500.0\n",
       "              7faf42a62511          0.0\n",
       "              94de5f04ddb1        450.0\n",
       "              fd8674fb8dbb          0.0\n",
       "ffff81e53788  1e88147708bb       8000.0\n",
       "              3ee5b9e9c861       3000.0\n",
       "              810b377cf901       7500.0\n",
       "ffff8ac99d29  e4696d80b63a       1000.0\n",
       "Name: price, Length: 1503424, dtype: float64"
      ]
     },
     "execution_count": 222,
     "metadata": {},
     "output_type": "execute_result"
    }
   ],
   "source": [
    "user"
   ]
  },
  {
   "cell_type": "code",
   "execution_count": 223,
   "metadata": {},
   "outputs": [],
   "source": [
    "user_df = pd.DataFrame(columns = ['user_id', 'item_id', 'price'])"
   ]
  },
  {
   "cell_type": "code",
   "execution_count": 224,
   "metadata": {},
   "outputs": [],
   "source": [
    "vals = []\n",
    "\n",
    "for i in list(user.items()):\n",
    "    user = i[0][0]\n",
    "    item = i[0][1]\n",
    "    price = i[1]\n",
    "    \n",
    "    vals.append({'user_id': user, 'item_id': item, 'price': price})"
   ]
  },
  {
   "cell_type": "code",
   "execution_count": 225,
   "metadata": {},
   "outputs": [
    {
     "data": {
      "text/plain": [
       "1503424"
      ]
     },
     "execution_count": 225,
     "metadata": {},
     "output_type": "execute_result"
    }
   ],
   "source": [
    "len(vals)"
   ]
  },
  {
   "cell_type": "markdown",
   "metadata": {},
   "source": [
    "** Because this contains over 1,500,000 rows our previous approach of a appending row by row is extremely computationally expensive. To work around this, I will feed the rows contained in vals directly into a DataFrame. **"
   ]
  },
  {
   "cell_type": "code",
   "execution_count": 336,
   "metadata": {},
   "outputs": [
    {
     "data": {
      "text/html": [
       "<div>\n",
       "<style scoped>\n",
       "    .dataframe tbody tr th:only-of-type {\n",
       "        vertical-align: middle;\n",
       "    }\n",
       "\n",
       "    .dataframe tbody tr th {\n",
       "        vertical-align: top;\n",
       "    }\n",
       "\n",
       "    .dataframe thead th {\n",
       "        text-align: right;\n",
       "    }\n",
       "</style>\n",
       "<table border=\"1\" class=\"dataframe\">\n",
       "  <thead>\n",
       "    <tr style=\"text-align: right;\">\n",
       "      <th></th>\n",
       "      <th>item_id</th>\n",
       "      <th>price</th>\n",
       "      <th>user_id</th>\n",
       "    </tr>\n",
       "  </thead>\n",
       "  <tbody>\n",
       "    <tr>\n",
       "      <th>0</th>\n",
       "      <td>daf6372193bf</td>\n",
       "      <td>9000.0</td>\n",
       "      <td>0000312c4672</td>\n",
       "    </tr>\n",
       "    <tr>\n",
       "      <th>1</th>\n",
       "      <td>738274adfd4c</td>\n",
       "      <td>4500.0</td>\n",
       "      <td>0000326c6042</td>\n",
       "    </tr>\n",
       "    <tr>\n",
       "      <th>2</th>\n",
       "      <td>8b2644d943b9</td>\n",
       "      <td>2500.0</td>\n",
       "      <td>0000326c6042</td>\n",
       "    </tr>\n",
       "    <tr>\n",
       "      <th>3</th>\n",
       "      <td>0668052f1187</td>\n",
       "      <td>600.0</td>\n",
       "      <td>000041bbfe14</td>\n",
       "    </tr>\n",
       "    <tr>\n",
       "      <th>4</th>\n",
       "      <td>1f294faa133e</td>\n",
       "      <td>600.0</td>\n",
       "      <td>00007ac91e3b</td>\n",
       "    </tr>\n",
       "  </tbody>\n",
       "</table>\n",
       "</div>"
      ],
      "text/plain": [
       "        item_id   price       user_id\n",
       "0  daf6372193bf  9000.0  0000312c4672\n",
       "1  738274adfd4c  4500.0  0000326c6042\n",
       "2  8b2644d943b9  2500.0  0000326c6042\n",
       "3  0668052f1187   600.0  000041bbfe14\n",
       "4  1f294faa133e   600.0  00007ac91e3b"
      ]
     },
     "execution_count": 336,
     "metadata": {},
     "output_type": "execute_result"
    }
   ],
   "source": [
    "unsorted = pd.DataFrame(vals)\n",
    "unsorted.head()"
   ]
  },
  {
   "cell_type": "markdown",
   "metadata": {},
   "source": [
    "** This worked but because python dictionaries are not guaranteed to be ordered, we see that our price column is now the 2nd column. We will be feeding these into our Appache Cassandra Database and the column names must line up.**"
   ]
  },
  {
   "cell_type": "code",
   "execution_count": 337,
   "metadata": {},
   "outputs": [],
   "source": [
    "user_df['user_id'] = unsorted.user_id\n",
    "user_df['item_id'] = unsorted.item_id\n",
    "user_df['price'] = unsorted.price"
   ]
  },
  {
   "cell_type": "code",
   "execution_count": 338,
   "metadata": {},
   "outputs": [
    {
     "data": {
      "text/html": [
       "<div>\n",
       "<style scoped>\n",
       "    .dataframe tbody tr th:only-of-type {\n",
       "        vertical-align: middle;\n",
       "    }\n",
       "\n",
       "    .dataframe tbody tr th {\n",
       "        vertical-align: top;\n",
       "    }\n",
       "\n",
       "    .dataframe thead th {\n",
       "        text-align: right;\n",
       "    }\n",
       "</style>\n",
       "<table border=\"1\" class=\"dataframe\">\n",
       "  <thead>\n",
       "    <tr style=\"text-align: right;\">\n",
       "      <th></th>\n",
       "      <th>user_id</th>\n",
       "      <th>item_id</th>\n",
       "      <th>price</th>\n",
       "    </tr>\n",
       "  </thead>\n",
       "  <tbody>\n",
       "    <tr>\n",
       "      <th>0</th>\n",
       "      <td>0000312c4672</td>\n",
       "      <td>daf6372193bf</td>\n",
       "      <td>9000.0</td>\n",
       "    </tr>\n",
       "    <tr>\n",
       "      <th>1</th>\n",
       "      <td>0000326c6042</td>\n",
       "      <td>738274adfd4c</td>\n",
       "      <td>4500.0</td>\n",
       "    </tr>\n",
       "    <tr>\n",
       "      <th>2</th>\n",
       "      <td>0000326c6042</td>\n",
       "      <td>8b2644d943b9</td>\n",
       "      <td>2500.0</td>\n",
       "    </tr>\n",
       "    <tr>\n",
       "      <th>3</th>\n",
       "      <td>000041bbfe14</td>\n",
       "      <td>0668052f1187</td>\n",
       "      <td>600.0</td>\n",
       "    </tr>\n",
       "    <tr>\n",
       "      <th>4</th>\n",
       "      <td>00007ac91e3b</td>\n",
       "      <td>1f294faa133e</td>\n",
       "      <td>600.0</td>\n",
       "    </tr>\n",
       "  </tbody>\n",
       "</table>\n",
       "</div>"
      ],
      "text/plain": [
       "        user_id       item_id   price\n",
       "0  0000312c4672  daf6372193bf  9000.0\n",
       "1  0000326c6042  738274adfd4c  4500.0\n",
       "2  0000326c6042  8b2644d943b9  2500.0\n",
       "3  000041bbfe14  0668052f1187   600.0\n",
       "4  00007ac91e3b  1f294faa133e   600.0"
      ]
     },
     "execution_count": 338,
     "metadata": {},
     "output_type": "execute_result"
    }
   ],
   "source": [
    "user_df.head()"
   ]
  },
  {
   "cell_type": "markdown",
   "metadata": {},
   "source": [
    "** Delete our unsorted DataFrame to clear memory **"
   ]
  },
  {
   "cell_type": "code",
   "execution_count": 339,
   "metadata": {},
   "outputs": [],
   "source": [
    "del unsorted"
   ]
  },
  {
   "cell_type": "markdown",
   "metadata": {},
   "source": [
    "# Load into our Apache Cassandra Database"
   ]
  },
  {
   "cell_type": "code",
   "execution_count": 226,
   "metadata": {},
   "outputs": [],
   "source": [
    "import cassandra\n",
    "from cassandra.cluster import Cluster"
   ]
  },
  {
   "cell_type": "code",
   "execution_count": 227,
   "metadata": {},
   "outputs": [],
   "source": [
    "cluster = Cluster([\"127.0.0.1\"])\n",
    "session = cluster.connect()"
   ]
  },
  {
   "cell_type": "markdown",
   "metadata": {},
   "source": [
    "# Cap Theorem"
   ]
  },
  {
   "cell_type": "markdown",
   "metadata": {},
   "source": [
    "The CAP theorem, also named Brewer's theorem after computer scientist Eric Brewer, states that it is impossible for a distributed data store to simultaneously provide more than two out of the following three guarantees:[1][2][3]\n",
    "\n",
    "- Consistency: Every read receives the most recent write or an error\n",
    "\n",
    "- Availability: Every request receives a (non-error) response – without the guarantee that it contains the most recent write\n",
    "\n",
    "- Partition tolerance: The system continues to operate despite an arbitrary number of messages being dropped (or delayed) by the network between nodes\n",
    "\n",
    "In particular, the CAP theorem implies that in the presence of a network partition, one has to choose between consistency and availability. Note that consistency as defined in the CAP theorem is quite different from the consistency guaranteed in ACID database transactions[4]. "
   ]
  },
  {
   "cell_type": "markdown",
   "metadata": {},
   "source": [
    "# Replication"
   ]
  },
  {
   "cell_type": "markdown",
   "metadata": {},
   "source": [
    "A keyspace is created with a strategy. For development work, the SimpleStrategy class is acceptable. For production work, the NetworkTopologyStrategy class must be set. To change the strategy, two steps are required. Altering the distribution of nodes within multiple datacenters when data is present should be accomplished by adding a datacenter, and then adding data to the new nodes in the new datacenter and removing nodes from the old datacenter."
   ]
  },
  {
   "cell_type": "code",
   "execution_count": 229,
   "metadata": {},
   "outputs": [
    {
     "data": {
      "text/plain": [
       "<cassandra.cluster.ResultSet at 0x15aa2f91668>"
      ]
     },
     "execution_count": 229,
     "metadata": {},
     "output_type": "execute_result"
    }
   ],
   "source": [
    "session.execute(\"CREATE KEYSPACE IF NOT EXISTS avito WITH REPLICATION = {'class': 'SimpleStrategy', 'replication_factor': 1}\")"
   ]
  },
  {
   "cell_type": "markdown",
   "metadata": {},
   "source": [
    "NetworkTopologyStrategy\n",
    "\n",
    "Use NetworkTopologyStrategy when you have (or plan to have) your cluster deployed across multiple datacenters. This strategy specifies how many replicas you want in each datacenter.\n",
    "\n",
    "NetworkTopologyStrategy places replicas in the same datacenter by walking the ring clockwise until reaching the first node in another rack. NetworkTopologyStrategy attempts to place replicas on distinct racks because nodes in the same rack (or similar physical grouping) often fail at the same time due to power, cooling, or network issues.\n",
    "\n",
    "When deciding how many replicas to configure in each datacenter, the two primary considerations are (1) being able to satisfy reads locally, without incurring cross data-center latency, and (2) failure scenarios. The two most common ways to configure multiple datacenter clusters are:\n",
    "\n",
    "Two replicas in each datacenter: This configuration tolerates the failure of a single node per replication group and still allows local reads at a consistency level of ONE.\n",
    "    \n",
    "Three replicas in each datacenter: This configuration tolerates either the failure of one node per replication group at a strong consistency level of LOCAL_QUORUM or multiple node failures per datacenter using consistency level ONE.\n",
    "\n",
    "Asymmetrical replication groupings are also possible. For example, you can have three replicas in one datacenter to serve real-time application requests and use a single replica elsewhere for running analytics."
   ]
  },
  {
   "cell_type": "markdown",
   "metadata": {},
   "source": [
    "** Network Topology Strategy example **"
   ]
  },
  {
   "cell_type": "code",
   "execution_count": null,
   "metadata": {},
   "outputs": [],
   "source": [
    "#session.execute(\"ALTER KEYSPACE acme_co WITH REPLICATION = \\\n",
    "  #{'class' : 'NetworkTopologyStrategy', 'dc1' : 3, 'dc2' : 2}\")"
   ]
  },
  {
   "cell_type": "markdown",
   "metadata": {},
   "source": [
    "* dc1, dc2 are your different datacenters"
   ]
  },
  {
   "cell_type": "markdown",
   "metadata": {},
   "source": [
    "# Set Keyspace"
   ]
  },
  {
   "cell_type": "code",
   "execution_count": 230,
   "metadata": {},
   "outputs": [],
   "source": [
    "session.set_keyspace(\"avito\")"
   ]
  },
  {
   "cell_type": "markdown",
   "metadata": {},
   "source": [
    "# Create Tables"
   ]
  },
  {
   "cell_type": "markdown",
   "metadata": {},
   "source": [
    "** Products **"
   ]
  },
  {
   "cell_type": "code",
   "execution_count": 310,
   "metadata": {},
   "outputs": [],
   "source": [
    "query = \"CREATE TABLE IF NOT EXISTS products\"\n",
    "query = query + \"(parent_cat text, category text, price float, PRIMARY KEY (parent_cat, category))\"\n",
    "\n",
    "try:\n",
    "    session.execute(query)\n",
    "except Exception as e:\n",
    "    print(e)"
   ]
  },
  {
   "cell_type": "code",
   "execution_count": 311,
   "metadata": {},
   "outputs": [],
   "source": [
    "for _, row in list(cat_df.iterrows()):\n",
    "    \n",
    "\n",
    "    query = \"INSERT INTO products (parent_cat, category, price)\"\n",
    "    query = query + \" VALUES (%s, %s, %s)\"\n",
    "\n",
    "    try: \n",
    "        session.execute(query, tuple(row))\n",
    "    except Exception as e:\n",
    "        print(e)"
   ]
  },
  {
   "cell_type": "code",
   "execution_count": 312,
   "metadata": {},
   "outputs": [
    {
     "data": {
      "text/plain": [
       "Row(parent_cat='Личные вещи', category='Детская одежда и обувь', price=2604730368.0)"
      ]
     },
     "execution_count": 312,
     "metadata": {},
     "output_type": "execute_result"
    }
   ],
   "source": [
    "result = session.execute(\"SELECT * FROM products\")\n",
    "result.one()"
   ]
  },
  {
   "cell_type": "code",
   "execution_count": 313,
   "metadata": {},
   "outputs": [
    {
     "name": "stdout",
     "output_type": "stream",
     "text": [
      "Row(parent_cat='Личные вещи', category='Детская одежда и обувь', price=2604730368.0)\n",
      "Row(parent_cat='Личные вещи', category='Красота и здоровье', price=128070088.0)\n",
      "Row(parent_cat='Личные вещи', category='Одежда, обувь, аксессуары', price=2296222464.0)\n",
      "Row(parent_cat='Личные вещи', category='Товары для детей и игрушки', price=405498656.0)\n",
      "Row(parent_cat='Личные вещи', category='Часы и украшения', price=202040368.0)\n",
      "Row(parent_cat='Недвижимость', category='Гаражи и машиноместа', price=1695062784.0)\n",
      "Row(parent_cat='Недвижимость', category='Дома, дачи, коттеджи', price=68240699392.0)\n",
      "Row(parent_cat='Недвижимость', category='Земельные участки', price=116017897472.0)\n",
      "Row(parent_cat='Недвижимость', category='Квартиры', price=157752967168.0)\n",
      "Row(parent_cat='Недвижимость', category='Коммерческая недвижимость', price=43872079872.0)\n"
     ]
    }
   ],
   "source": [
    "for i in result[:10]:\n",
    "    print(i)"
   ]
  },
  {
   "cell_type": "markdown",
   "metadata": {},
   "source": [
    "# Allow Filtering"
   ]
  },
  {
   "cell_type": "code",
   "execution_count": 318,
   "metadata": {},
   "outputs": [
    {
     "ename": "InvalidRequest",
     "evalue": "Error from server: code=2200 [Invalid query] message=\"Cannot execute this query as it might involve data filtering and thus may have unpredictable performance. If you want to execute this query despite the performance unpredictability, use ALLOW FILTERING\"",
     "output_type": "error",
     "traceback": [
      "\u001b[1;31m---------------------------------------------------------------------------\u001b[0m",
      "\u001b[1;31mInvalidRequest\u001b[0m                            Traceback (most recent call last)",
      "\u001b[1;32m<ipython-input-318-3d50d4891f0a>\u001b[0m in \u001b[0;36m<module>\u001b[1;34m()\u001b[0m\n\u001b[1;32m----> 1\u001b[1;33m \u001b[0mresult\u001b[0m \u001b[1;33m=\u001b[0m \u001b[0msession\u001b[0m\u001b[1;33m.\u001b[0m\u001b[0mexecute\u001b[0m\u001b[1;33m(\u001b[0m\u001b[1;34m\"SELECT * from products WHERE price > 20000000\"\u001b[0m\u001b[1;33m)\u001b[0m\u001b[1;33m\u001b[0m\u001b[0m\n\u001b[0m",
      "\u001b[1;32mc:\\python36\\lib\\site-packages\\cassandra\\cluster.py\u001b[0m in \u001b[0;36mexecute\u001b[1;34m(self, query, parameters, timeout, trace, custom_payload, execution_profile, paging_state, host)\u001b[0m\n\u001b[0;32m   2215\u001b[0m         \"\"\"\n\u001b[0;32m   2216\u001b[0m         return self.execute_async(query, parameters, trace, custom_payload,\n\u001b[1;32m-> 2217\u001b[1;33m                                   timeout, execution_profile, paging_state, host).result()\n\u001b[0m\u001b[0;32m   2218\u001b[0m \u001b[1;33m\u001b[0m\u001b[0m\n\u001b[0;32m   2219\u001b[0m     def execute_async(self, query, parameters=None, trace=False, custom_payload=None,\n",
      "\u001b[1;32mc:\\python36\\lib\\site-packages\\cassandra\\cluster.py\u001b[0m in \u001b[0;36mresult\u001b[1;34m(self)\u001b[0m\n\u001b[0;32m   4129\u001b[0m             \u001b[1;32mreturn\u001b[0m \u001b[0mResultSet\u001b[0m\u001b[1;33m(\u001b[0m\u001b[0mself\u001b[0m\u001b[1;33m,\u001b[0m \u001b[0mself\u001b[0m\u001b[1;33m.\u001b[0m\u001b[0m_final_result\u001b[0m\u001b[1;33m)\u001b[0m\u001b[1;33m\u001b[0m\u001b[0m\n\u001b[0;32m   4130\u001b[0m         \u001b[1;32melse\u001b[0m\u001b[1;33m:\u001b[0m\u001b[1;33m\u001b[0m\u001b[0m\n\u001b[1;32m-> 4131\u001b[1;33m             \u001b[1;32mraise\u001b[0m \u001b[0mself\u001b[0m\u001b[1;33m.\u001b[0m\u001b[0m_final_exception\u001b[0m\u001b[1;33m\u001b[0m\u001b[0m\n\u001b[0m\u001b[0;32m   4132\u001b[0m \u001b[1;33m\u001b[0m\u001b[0m\n\u001b[0;32m   4133\u001b[0m     \u001b[1;32mdef\u001b[0m \u001b[0mget_query_trace_ids\u001b[0m\u001b[1;33m(\u001b[0m\u001b[0mself\u001b[0m\u001b[1;33m)\u001b[0m\u001b[1;33m:\u001b[0m\u001b[1;33m\u001b[0m\u001b[0m\n",
      "\u001b[1;31mInvalidRequest\u001b[0m: Error from server: code=2200 [Invalid query] message=\"Cannot execute this query as it might involve data filtering and thus may have unpredictable performance. If you want to execute this query despite the performance unpredictability, use ALLOW FILTERING\""
     ]
    }
   ],
   "source": [
    "result = session.execute(\"SELECT * from products WHERE price > 20000000\")"
   ]
  },
  {
   "cell_type": "markdown",
   "metadata": {},
   "source": [
    "Cassandra knows that it might not be able to execute the query in an efficient way. It is therefore warning you: “Be careful. Executing this query as such might not be a good idea as it can use a lot of your computing resources”.\n",
    "\n",
    "The only way Cassandra can execute this query is by retrieving all the rows from the table blogs and then by filtering out the ones which do not have the requested value for the time1 column.\n",
    "\n",
    "If your table contains for example a 1 million rows and 95% of them have the requested value for the time1 column, the query will still be relatively efficient and you should use ALLOW FILTERING.\n",
    "\n",
    "On the other hand, if your table contains 1 million rows and only 2 rows contain the requested value for the time1 column, your query is extremely inefficient. Cassandra will load 999, 998 rows for nothing. If the query is often used, it is probably better to add an index on the time1 column.\n",
    "\n",
    "Unfortunately, Cassandra has no way to differentiate between the 2 cases above as they are depending on the data distribution of the table.  Cassandra is therefore warning you and relying on you to make the good choice."
   ]
  },
  {
   "cell_type": "markdown",
   "metadata": {},
   "source": [
    "More info : https://www.datastax.com/dev/blog/allow-filtering-explained-2"
   ]
  },
  {
   "cell_type": "code",
   "execution_count": 315,
   "metadata": {},
   "outputs": [],
   "source": [
    "result = session.execute(\"SELECT * from products WHERE price > 20000000 ALLOW FILTERING\")"
   ]
  },
  {
   "cell_type": "code",
   "execution_count": 317,
   "metadata": {},
   "outputs": [
    {
     "name": "stdout",
     "output_type": "stream",
     "text": [
      "Row(parent_cat='Личные вещи', category='Детская одежда и обувь', price=2604730368.0)\n",
      "Row(parent_cat='Личные вещи', category='Красота и здоровье', price=128070088.0)\n",
      "Row(parent_cat='Личные вещи', category='Одежда, обувь, аксессуары', price=2296222464.0)\n",
      "Row(parent_cat='Личные вещи', category='Товары для детей и игрушки', price=405498656.0)\n",
      "Row(parent_cat='Личные вещи', category='Часы и украшения', price=202040368.0)\n",
      "Row(parent_cat='Недвижимость', category='Гаражи и машиноместа', price=1695062784.0)\n",
      "Row(parent_cat='Недвижимость', category='Дома, дачи, коттеджи', price=68240699392.0)\n",
      "Row(parent_cat='Недвижимость', category='Земельные участки', price=116017897472.0)\n",
      "Row(parent_cat='Недвижимость', category='Квартиры', price=157752967168.0)\n",
      "Row(parent_cat='Недвижимость', category='Коммерческая недвижимость', price=43872079872.0)\n",
      "Row(parent_cat='Недвижимость', category='Комнаты', price=3147422720.0)\n",
      "Row(parent_cat='Недвижимость', category='Недвижимость за рубежом', price=1212660608.0)\n",
      "Row(parent_cat='Бытовая электроника', category='Аудио и видео', price=196885440.0)\n",
      "Row(parent_cat='Бытовая электроника', category='Игры, приставки и программы', price=82438560.0)\n",
      "Row(parent_cat='Бытовая электроника', category='Настольные компьютеры', price=69503504.0)\n",
      "Row(parent_cat='Бытовая электроника', category='Ноутбуки', price=133428920.0)\n",
      "Row(parent_cat='Бытовая электроника', category='Оргтехника и расходники', price=34419256.0)\n",
      "Row(parent_cat='Бытовая электроника', category='Планшеты и электронные книги', price=43190632.0)\n",
      "Row(parent_cat='Бытовая электроника', category='Телефоны', price=1938713344.0)\n",
      "Row(parent_cat='Бытовая электроника', category='Товары для компьютера', price=563706048.0)\n",
      "Row(parent_cat='Бытовая электроника', category='Фототехника', price=73643360.0)\n",
      "Row(parent_cat='Транспорт', category='Автомобили', price=23165478912.0)\n",
      "Row(parent_cat='Транспорт', category='Водный транспорт', price=552882176.0)\n",
      "Row(parent_cat='Транспорт', category='Грузовики и спецтехника', price=6438169088.0)\n",
      "Row(parent_cat='Транспорт', category='Мотоциклы и мототехника', price=714161024.0)\n",
      "Row(parent_cat='Услуги', category='Предложение услуг', price=557178560.0)\n",
      "Row(parent_cat='Хобби и отдых', category='Билеты и путешествия', price=65728784.0)\n",
      "Row(parent_cat='Хобби и отдых', category='Велосипеды', price=84512640.0)\n",
      "Row(parent_cat='Хобби и отдых', category='Книги и журналы', price=120777152.0)\n",
      "Row(parent_cat='Хобби и отдых', category='Коллекционирование', price=904586624.0)\n",
      "Row(parent_cat='Хобби и отдых', category='Музыкальные инструменты', price=80818152.0)\n",
      "Row(parent_cat='Хобби и отдых', category='Охота и рыбалка', price=20114128.0)\n",
      "Row(parent_cat='Хобби и отдых', category='Спорт и отдых', price=252734352.0)\n",
      "Row(parent_cat='Для бизнеса', category='Готовый бизнес', price=5209337344.0)\n",
      "Row(parent_cat='Для бизнеса', category='Оборудование для бизнеса', price=5425002496.0)\n",
      "Row(parent_cat='Для дома и дачи', category='Бытовая техника', price=260651392.0)\n",
      "Row(parent_cat='Для дома и дачи', category='Мебель и интерьер', price=2023284352.0)\n",
      "Row(parent_cat='Для дома и дачи', category='Посуда и товары для кухни', price=21420160.0)\n",
      "Row(parent_cat='Для дома и дачи', category='Ремонт и строительство', price=1084758784.0)\n",
      "Row(parent_cat='Животные', category='Другие животные', price=980178688.0)\n",
      "Row(parent_cat='Животные', category='Кошки', price=97372168.0)\n",
      "Row(parent_cat='Животные', category='Птицы', price=185111504.0)\n",
      "Row(parent_cat='Животные', category='Собаки', price=70892048.0)\n",
      "Row(parent_cat='Животные', category='Товары для животных', price=48080480.0)\n"
     ]
    }
   ],
   "source": [
    "for i in result:\n",
    "    print(i)"
   ]
  },
  {
   "cell_type": "markdown",
   "metadata": {},
   "source": [
    "** Regions Table **"
   ]
  },
  {
   "cell_type": "code",
   "execution_count": 320,
   "metadata": {},
   "outputs": [],
   "source": [
    "query = \"CREATE TABLE IF NOT EXISTS regions\"\n",
    "query = query + \"(region text, city text, price float, PRIMARY KEY (region, city))\"\n",
    "\n",
    "try:\n",
    "    session.execute(query)\n",
    "except Exception as e:\n",
    "    print(e)"
   ]
  },
  {
   "cell_type": "code",
   "execution_count": 322,
   "metadata": {},
   "outputs": [],
   "source": [
    "for _, row in list(region_df.iterrows()):\n",
    "    \n",
    "\n",
    "    query = \"INSERT INTO regions (region, city, price)\"\n",
    "    query = query + \" VALUES (%s, %s, %s)\"\n",
    "\n",
    "    try: \n",
    "        session.execute(query, tuple(row))\n",
    "    except Exception as e:\n",
    "        print(e)"
   ]
  },
  {
   "cell_type": "code",
   "execution_count": 323,
   "metadata": {},
   "outputs": [
    {
     "data": {
      "text/plain": [
       "Row(region='Пермский край', city='Александровск', price=9429850.0)"
      ]
     },
     "execution_count": 323,
     "metadata": {},
     "output_type": "execute_result"
    }
   ],
   "source": [
    "res = session.execute(\"SELECT * FROM regions\")\n",
    "res.one()"
   ]
  },
  {
   "cell_type": "code",
   "execution_count": 326,
   "metadata": {},
   "outputs": [
    {
     "data": {
      "text/plain": [
       "Row(city='Александровск', system_max_price=79692128256.0)"
      ]
     },
     "execution_count": 326,
     "metadata": {},
     "output_type": "execute_result"
    }
   ],
   "source": [
    "res = session.execute(\"SELECT city, MAX(price) FROM regions\")\n",
    "res.one()"
   ]
  },
  {
   "cell_type": "code",
   "execution_count": 327,
   "metadata": {},
   "outputs": [
    {
     "data": {
      "text/plain": [
       "Row(city='Александровск', system_min_price=0.0)"
      ]
     },
     "execution_count": 327,
     "metadata": {},
     "output_type": "execute_result"
    }
   ],
   "source": [
    "res = session.execute(\"SELECT city, MIN(price) FROM regions\")\n",
    "res.one()"
   ]
  },
  {
   "cell_type": "markdown",
   "metadata": {},
   "source": [
    "# User Table"
   ]
  },
  {
   "cell_type": "code",
   "execution_count": 364,
   "metadata": {},
   "outputs": [],
   "source": [
    "query = \"CREATE TABLE IF NOT EXISTS users\"\n",
    "query = query + \"(user_id text, item_id text, price float, PRIMARY KEY (user_id, item_id))\"\n",
    "\n",
    "try:\n",
    "    session.execute(query)\n",
    "except Exception as e:\n",
    "    print(e)"
   ]
  },
  {
   "cell_type": "code",
   "execution_count": 365,
   "metadata": {},
   "outputs": [],
   "source": [
    "for _, row in list(user_df.iterrows()):\n",
    "    count += 1\n",
    "    \n",
    "\n",
    "    query = \"INSERT INTO users (user_id, item_id, price)\"\n",
    "    query = query + \" VALUES (%s, %s, %s)\"\n",
    "\n",
    "    try: \n",
    "        session.execute(query, tuple(row))\n",
    "    except Exception as e:\n",
    "        print(e)"
   ]
  },
  {
   "cell_type": "code",
   "execution_count": 359,
   "metadata": {},
   "outputs": [
    {
     "data": {
      "text/plain": [
       "(1503424, 3)"
      ]
     },
     "execution_count": 359,
     "metadata": {},
     "output_type": "execute_result"
    }
   ],
   "source": [
    "user_df.shape"
   ]
  },
  {
   "cell_type": "code",
   "execution_count": 366,
   "metadata": {},
   "outputs": [
    {
     "data": {
      "text/plain": [
       "Row(user_id='74f204b636ff', item_id='7b17ab28cebc', price=500.0)"
      ]
     },
     "execution_count": 366,
     "metadata": {},
     "output_type": "execute_result"
    }
   ],
   "source": [
    "res = session.execute(\"SELECT * FROM users\")\n",
    "res.one()"
   ]
  },
  {
   "cell_type": "code",
   "execution_count": 367,
   "metadata": {},
   "outputs": [],
   "source": [
    "total = []\n",
    "\n",
    "for i in res:\n",
    "    total.append(i)"
   ]
  },
  {
   "cell_type": "code",
   "execution_count": 368,
   "metadata": {},
   "outputs": [
    {
     "data": {
      "text/plain": [
       "1503424"
      ]
     },
     "execution_count": 368,
     "metadata": {},
     "output_type": "execute_result"
    }
   ],
   "source": [
    "len(total)"
   ]
  },
  {
   "cell_type": "code",
   "execution_count": 370,
   "metadata": {},
   "outputs": [],
   "source": [
    "res = session.execute(\"SELECT * FROM users WHERE user_id = '74f204b636ff';\")"
   ]
  },
  {
   "cell_type": "code",
   "execution_count": 371,
   "metadata": {},
   "outputs": [
    {
     "name": "stdout",
     "output_type": "stream",
     "text": [
      "Row(user_id='74f204b636ff', item_id='7b17ab28cebc', price=500.0)\n"
     ]
    }
   ],
   "source": [
    "for result in res:\n",
    "    print(result)"
   ]
  },
  {
   "cell_type": "code",
   "execution_count": null,
   "metadata": {},
   "outputs": [],
   "source": []
  }
 ],
 "metadata": {
  "kernelspec": {
   "display_name": "Python 3",
   "language": "python",
   "name": "python3"
  },
  "language_info": {
   "codemirror_mode": {
    "name": "ipython",
    "version": 3
   },
   "file_extension": ".py",
   "mimetype": "text/x-python",
   "name": "python",
   "nbconvert_exporter": "python",
   "pygments_lexer": "ipython3",
   "version": "3.6.2"
  }
 },
 "nbformat": 4,
 "nbformat_minor": 2
}
